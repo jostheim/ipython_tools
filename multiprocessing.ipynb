{
 "metadata": {
  "name": ""
 },
 "nbformat": 3,
 "nbformat_minor": 0,
 "worksheets": [
  {
   "cells": [
    {
     "cell_type": "code",
     "collapsed": false,
     "input": [
      "from multiprocessing import Pool\n",
      "import time"
     ],
     "language": "python",
     "metadata": {},
     "outputs": []
    },
    {
     "cell_type": "code",
     "collapsed": false,
     "input": [
      "def map_with_status(function, input_queue, report_timeout=10, batch_size=1, batch=1, start=0, processes=-1)\n",
      "'''\n",
      "Batches up the input_queue, based on the batch_size, and submits it to a worker queue (of processes processes) to .  \n",
      "\n",
      "Reports back report_timeout seconds with how many are left in the queue.\n",
      "\n",
      "\n",
      "'''\n",
      "    batch_width = (len(input_queue)-start)/batch_size\n",
      "    for j in xrange(0, batch_size):\n",
      "        pool = Pool(processes=8)\n",
      "        if j+1 < batch_size:\n",
      "            current_batch = [j*batch_width if start == 0 else start, (j+1)*batch_width] \n",
      "        else:\n",
      "            current_batch = [j*batch_width if start == 0 else start, len(galaxy_training.index)] \n",
      "        pool_queue = []\n",
      "        for i, queue_val in enumerate(input_queue[current_batch[0]:current_batch[1]]):\n",
      "            pool_queue.append(queue_val)\n",
      "                   \n",
      "        results = pool.map_async(function, pool_queue, batch)\n",
      "        pool.close() # No more work\n",
      "        while (True):\n",
      "            #print results._value\n",
      "            if (results._number_left == 0): break\n",
      "            remaining = results._number_left\n",
      "            print \"\\r Waiting for\", remaining, \"tasks to complete...\"\n",
      "            time.sleep(report_timeout)\n",
      "            \n",
      "        return results"
     ],
     "language": "python",
     "metadata": {},
     "outputs": []
    }
   ],
   "metadata": {}
  }
 ]
}